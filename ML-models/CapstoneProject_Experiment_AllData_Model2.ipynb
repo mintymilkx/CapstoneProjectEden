{
 "cells": [
  {
   "cell_type": "code",
   "execution_count": 1,
   "id": "0ff85422",
   "metadata": {},
   "outputs": [],
   "source": [
    "import tensorflow as tf\n",
    "from tensorflow import keras\n",
    "from tensorflow.keras import Model\n",
    "from tensorflow.keras.models import load_model\n",
    "from tensorflow.keras import layers\n",
    "from tensorflow.keras.callbacks import ModelCheckpoint\n",
    "from tensorflow.keras.optimizers import Adam\n",
    "from tensorflow.keras.preprocessing.image import ImageDataGenerator, img_to_array, load_img\n",
    "from sklearn.utils.class_weight import compute_class_weight\n",
    "\n",
    "import pandas as pd\n",
    "import numpy as np\n",
    "import matplotlib.pyplot as plt\n",
    "import os\n",
    "\n",
    "import io\n",
    "import random\n",
    "import shutil\n",
    "from PIL import Image\n",
    "\n",
    "\n",
    "import time\n",
    "from tqdm import tqdm"
   ]
  },
  {
   "cell_type": "markdown",
   "id": "757e6c4f",
   "metadata": {},
   "source": [
    "## Check how many class do we have"
   ]
  },
  {
   "cell_type": "code",
   "execution_count": 87,
   "id": "2109d673",
   "metadata": {
    "scrolled": true
   },
   "outputs": [
    {
     "data": {
      "text/plain": [
       "['17_Soleirolia soleirolii',\n",
       " '20_Gerbera Daisy',\n",
       " '26_Nymphaea',\n",
       " '29_Iris  plant',\n",
       " '30_Lavandula plant',\n",
       " 'Chinese Elm Bonsai',\n",
       " 'Haworthiopsis fasciata',\n",
       " 'Hypoestes phyllostachya',\n",
       " 'Kalanchoe thyrsiflora',\n",
       " 'Lithops']"
      ]
     },
     "execution_count": 87,
     "metadata": {},
     "output_type": "execute_result"
    }
   ],
   "source": [
    "class_names = os.listdir(\"img_all_weight_15/\")\n",
    "class_names"
   ]
  },
  {
   "cell_type": "code",
   "execution_count": null,
   "id": "a5497f95",
   "metadata": {},
   "outputs": [],
   "source": [
    "count = 0\n",
    "count_gambar_foler = []\n",
    "random.seed(42)\n",
    "path = r\"E:\\jupyter\\Bangkit\\capstone project\\img_\"\n",
    "for i in tqdm(os.listdir(path)):\n",
    "    for img in os.listdir(os.path.join(path,i)):\n",
    "        num = np.random.randint(10000)\n",
    "        img_read = plt.imread(os.path.join(path,i,img))\n",
    "        img_shape = img_read.shape\n",
    "        if img_shape[2]!=3:\n",
    "            print(os.path.join(path,i,img))\n",
    "            print(img_read.shape)\n",
    "            plt.imshow(img_read)\n",
    "            plt.axis('off')\n",
    "            plt.show()\n",
    "            count+=1\n",
    "            dest = os.path.join(\"prep_all_img_wrong_shape\",f\"{num}.jpg\")\n",
    "            #shutil.move(os.path.join(path,i,img),dest)\n",
    "print(f\"{count} images are wrong shapes\")"
   ]
  },
  {
   "cell_type": "markdown",
   "id": "46f88bf7",
   "metadata": {},
   "source": [
    "## Extract Data"
   ]
  },
  {
   "cell_type": "code",
   "execution_count": 89,
   "id": "cf08352f",
   "metadata": {
    "scrolled": false
   },
   "outputs": [
    {
     "name": "stderr",
     "output_type": "stream",
     "text": [
      "100%|██████████| 10/10 [00:06<00:00,  1.55it/s]"
     ]
    },
    {
     "name": "stdout",
     "output_type": "stream",
     "text": [
      "0 images are wrong shapes\n"
     ]
    },
    {
     "name": "stderr",
     "output_type": "stream",
     "text": [
      "\n"
     ]
    }
   ],
   "source": [
    "count = 0\n",
    "count_gambar_foler = []\n",
    "random.seed(42)\n",
    "path = r\"E:\\jupyter\\Bangkit\\capstone project\\img_all_weight_15\"\n",
    "for i in tqdm(os.listdir(path)):\n",
    "    for img in os.listdir(os.path.join(path,i)):\n",
    "        num = np.random.randint(10000)\n",
    "        img_read = load_img(os.path.join(path,i,img))\n",
    "        img_read = img_to_array(img_read)\n",
    "        img_shape = img_read.shape\n",
    "        if img_shape[2]!=3:\n",
    "            print(os.path.join(path,i,img))\n",
    "            print(img_read.shape)\n",
    "            plt.imshow(img_read)\n",
    "            plt.axis('off')\n",
    "            plt.show()\n",
    "            count+=1\n",
    "            dest = os.path.join(\"prep_all_img_wrong_shape\",f\"{num}.jpg\")\n",
    "            #shutil.move(os.path.join(path,i,img),dest)\n",
    "print(f\"{count} images are wrong shapes\")\n"
   ]
  },
  {
   "cell_type": "markdown",
   "id": "9f76a353",
   "metadata": {},
   "source": [
    "### Visualize the data"
   ]
  },
  {
   "cell_type": "code",
   "execution_count": 2,
   "id": "db495837",
   "metadata": {},
   "outputs": [],
   "source": [
    "train_dir = r\"E:\\jupyter\\Bangkit\\capstone project\\img_dir_all\\train\"\n",
    "test_dir = r\"E:\\jupyter\\Bangkit\\capstone project\\img_dir_all\\test\""
   ]
  },
  {
   "cell_type": "code",
   "execution_count": 3,
   "id": "e20067ce",
   "metadata": {},
   "outputs": [],
   "source": [
    "def view_random_image(target_dir,target_class):\n",
    "    full_path_class = os.path.join(target_dir,target_class)\n",
    "    plt.figure()\n",
    "    for i in range(1,9):\n",
    "        plt.subplot(3,3,i)\n",
    "        pick_one_image = random.choice(os.listdir(full_path_class))\n",
    "\n",
    "        full_path_image = os.path.join(full_path_class,pick_one_image)\n",
    "\n",
    "        img = plt.imread(full_path_image)/255.\n",
    "        print(f\"Image shape: {img.shape}\")\n",
    "        plt.imshow(img)\n",
    "        plt.axis(\"off\")\n",
    "        plt.show()\n",
    "     \n",
    "    \n",
    "    \n",
    "    "
   ]
  },
  {
   "cell_type": "code",
   "execution_count": 5,
   "id": "4dd3bae8",
   "metadata": {},
   "outputs": [
    {
     "name": "stdout",
     "output_type": "stream",
     "text": [
      "Image shape: (171, 295, 3)\n"
     ]
    },
    {
     "data": {
      "image/png": "[encoded data removed]",
      "text/plain": [
       "<Figure size 432x288 with 1 Axes>"
      ]
     },
     "metadata": {
      "needs_background": "light"
     },
     "output_type": "display_data"
    },
    {
     "name": "stdout",
     "output_type": "stream",
     "text": [
      "Image shape: (194, 259, 3)\n"
     ]
    },
    {
     "data": {
      "image/png": "[encoded data removed]",
      "text/plain": [
       "<Figure size 432x288 with 1 Axes>"
      ]
     },
     "metadata": {
      "needs_background": "light"
     },
     "output_type": "display_data"
    },
    {
     "name": "stdout",
     "output_type": "stream",
     "text": [
      "Image shape: (162, 310, 3)\n"
     ]
    },
    {
     "data": {
      "image/png": "[encoded data removed]",
      "text/plain": [
       "<Figure size 432x288 with 1 Axes>"
      ]
     },
     "metadata": {
      "needs_background": "light"
     },
     "output_type": "display_data"
    },
    {
     "name": "stdout",
     "output_type": "stream",
     "text": [
      "Image shape: (225, 225, 3)\n"
     ]
    },
    {
     "data": {
      "image/png": "[encoded data removed]",
      "text/plain": [
       "<Figure size 432x288 with 1 Axes>"
      ]
     },
     "metadata": {
      "needs_background": "light"
     },
     "output_type": "display_data"
    },
    {
     "name": "stdout",
     "output_type": "stream",
     "text": [
      "Image shape: (183, 275, 3)\n"
     ]
    },
    {
     "data": {
      "image/png": "[encoded data removed]",
      "text/plain": [
       "<Figure size 432x288 with 1 Axes>"
      ]
     },
     "metadata": {
      "needs_background": "light"
     },
     "output_type": "display_data"
    },
    {
     "name": "stdout",
     "output_type": "stream",
     "text": [
      "Image shape: (183, 275, 3)\n"
     ]
    },
    {
     "data": {
      "image/png": "[encoded data removed]",
      "text/plain": [
       "<Figure size 432x288 with 1 Axes>"
      ]
     },
     "metadata": {
      "needs_background": "light"
     },
     "output_type": "display_data"
    },
    {
     "name": "stdout",
     "output_type": "stream",
     "text": [
      "Image shape: (259, 194, 3)\n"
     ]
    },
    {
     "data": {
      "image/png": "[encoded data removed]",
      "text/plain": [
       "<Figure size 432x288 with 1 Axes>"
      ]
     },
     "metadata": {
      "needs_background": "light"
     },
     "output_type": "display_data"
    },
    {
     "name": "stdout",
     "output_type": "stream",
     "text": [
      "Image shape: (166, 303, 3)\n"
     ]
    },
    {
     "data": {
      "image/png": "[encoded data removed]",
      "text/plain": [
       "<Figure size 432x288 with 1 Axes>"
      ]
     },
     "metadata": {
      "needs_background": "light"
     },
     "output_type": "display_data"
    }
   ],
   "source": [
    "#train_dir\n",
    "view_random_image(train_dir,\"18_Cacti\")"
   ]
  },
  {
   "cell_type": "markdown",
   "id": "44317b23",
   "metadata": {},
   "source": [
    "### Train Test Split Data"
   ]
  },
  {
   "cell_type": "code",
   "execution_count": null,
   "id": "ab1a27f0",
   "metadata": {},
   "outputs": [],
   "source": [
    "import shutil\n",
    "random.seed(42)\n",
    "path = r\"E:\\jupyter\\Bangkit\\capstone project\\img_all\"\n",
    "target = \"img_prep_all\"\n",
    "for i in tqdm(os.listdir(path)):\n",
    "    images_file = os.listdir(os.path.join(path,i))\n",
    "    random.shuffle(images_file)\n",
    "\n",
    "    for index,t in enumerate(images_file,start=1):\n",
    "        original = os.path.join(path,i,t)\n",
    "        if not os.path.exists(os.path.join(target,i)):\n",
    "            os.mkdir(os.path.join(target,i))\n",
    "        targets =os.path.join(target,i,t)\n",
    "        shutil.copyfile(original, targets)\n",
    "        if index==460:\n",
    "            break"
   ]
  },
  {
   "cell_type": "markdown",
   "id": "32739aa1",
   "metadata": {},
   "source": [
    "### Train Data Folder\n",
    "* pick random image from img folder to img_dir, and put it into train folder"
   ]
  },
  {
   "cell_type": "code",
   "execution_count": 11,
   "id": "1188c9a0",
   "metadata": {},
   "outputs": [
    {
     "name": "stderr",
     "output_type": "stream",
     "text": [
      "100%|██████████| 52/52 [00:04<00:00, 11.12it/s]\n"
     ]
    }
   ],
   "source": [
    "import shutil\n",
    "path=r\"E:\\jupyter\\Bangkit\\capstone project\\img_prep_all\"\n",
    "target=\"img_dir_all\"\n",
    "random.seed(42)\n",
    "for i in tqdm(os.listdir(path)):\n",
    "    images_file = os.listdir(os.path.join(path,i))\n",
    "    random.shuffle(images_file)\n",
    "    train_num = len(os.listdir(os.path.join(path,i)))-int(0.1*len(os.listdir(os.path.join(path,i))))\n",
    "    for index,t in enumerate(images_file,start=1):\n",
    "        original = os.path.join(path,i,t)\n",
    "        if not os.path.exists(os.path.join(target,\"train\",i)):\n",
    "            os.mkdir(os.path.join(target,\"train\",i))\n",
    "        dest =os.path.join(target,\"train\",i,t)\n",
    "        shutil.move(original, dest)\n",
    "        if index== train_num:\n",
    "            break"
   ]
  },
  {
   "cell_type": "markdown",
   "id": "bbd63fb8",
   "metadata": {},
   "source": [
    "### Test Data Folder\n",
    "* pick random image from img folder to img_dir, and put it into test folder"
   ]
  },
  {
   "cell_type": "code",
   "execution_count": 12,
   "id": "c0248a8e",
   "metadata": {},
   "outputs": [
    {
     "name": "stderr",
     "output_type": "stream",
     "text": [
      "100%|██████████| 52/52 [00:00<00:00, 84.55it/s]\n"
     ]
    }
   ],
   "source": [
    "path=r\"E:\\jupyter\\Bangkit\\capstone project\\img_prep_all\"\n",
    "target=\"img_dir_all\"\n",
    "for i in tqdm(os.listdir(path)):\n",
    "    images_file = os.listdir(os.path.join(path,i))\n",
    "    \n",
    "    for index,t in enumerate(images_file,start=1):\n",
    "        original = os.path.join(path,i,t)\n",
    "        if not os.path.exists(os.path.join(target,\"test\",i)):\n",
    "            os.mkdir(os.path.join(target,\"test\",i))\n",
    "        dest =os.path.join(target,\"test\",i,t)\n",
    "        \n",
    "        shutil.move(original, dest)\n",
    "       "
   ]
  },
  {
   "cell_type": "markdown",
   "id": "6e3cb351",
   "metadata": {},
   "source": [
    "### Setup data inputs"
   ]
  },
  {
   "cell_type": "code",
   "execution_count": 3,
   "id": "a722ed7e",
   "metadata": {},
   "outputs": [
    {
     "name": "stdout",
     "output_type": "stream",
     "text": [
      "Found 5710 images belonging to 10 classes.\n",
      "Found 628 images belonging to 10 classes.\n"
     ]
    }
   ],
   "source": [
    "\n",
    "IMG_SIZE = (224, 224)\n",
    "BATCH_SIZE = 32\n",
    "\n",
    "\n",
    "train_datagen = ImageDataGenerator(\n",
    "    rescale=1./255,\n",
    "    height_shift_range=0.2,\n",
    "    width_shift_range=0.2, \n",
    "    zoom_range=0.2,\n",
    "    horizontal_flip=True\n",
    ")\n",
    "\n",
    "validation_datagen = ImageDataGenerator(rescale=1./255)\n",
    "\n",
    "train_data = train_datagen.flow_from_directory(\n",
    "    directory=train_dir,\n",
    "    target_size=IMG_SIZE,\n",
    "    class_mode='categorical',\n",
    "    batch_size=BATCH_SIZE,\n",
    "    color_mode='rgb'\n",
    ")\n",
    "\n",
    "test_data = validation_datagen.flow_from_directory(\n",
    "    directory=test_dir,\n",
    "    target_size=IMG_SIZE,\n",
    "    class_mode='categorical',\n",
    "    batch_size=BATCH_SIZE,\n",
    "    color_mode='rgb',\n",
    "    shuffle=False\n",
    ")\n",
    "\n"
   ]
  },
  {
   "cell_type": "code",
   "execution_count": 4,
   "id": "7a53a9f7",
   "metadata": {},
   "outputs": [],
   "source": [
    "y_train=train_data.classes"
   ]
  },
  {
   "cell_type": "code",
   "execution_count": 5,
   "id": "8cfa4cfa",
   "metadata": {},
   "outputs": [],
   "source": [
    "class_weight = compute_class_weight(class_weight='balanced',\n",
    "                                    classes=np.unique(y_train),\n",
    "                                    y=y_train)\n",
    "class_weight= 1/class_weight\n",
    "\n",
    "weight = {i : class_weight[i] for i in range(10)}"
   ]
  },
  {
   "cell_type": "markdown",
   "id": "36a618a0",
   "metadata": {},
   "source": [
    "### Create Model using MobileNetv2"
   ]
  },
  {
   "cell_type": "code",
   "execution_count": 6,
   "id": "77faf445",
   "metadata": {},
   "outputs": [],
   "source": [
    "# Creating learning rate reduction callback\n",
    "reduce_lr = tf.keras.callbacks.ReduceLROnPlateau(monitor=\"val_loss\",  \n",
    "                                                 factor=0.2, # multiply the learning rate by 0.2 (reduce by 5x)\n",
    "                                                 patience=2,\n",
    "                                                 verbose=1, # print out when learning rate goes down \n",
    "                                                 min_lr=1e-7)"
   ]
  },
  {
   "cell_type": "code",
   "execution_count": 60,
   "id": "7673a3b0",
   "metadata": {},
   "outputs": [
    {
     "name": "stdout",
     "output_type": "stream",
     "text": [
      "WARNING:tensorflow:`input_shape` is undefined or non-square, or `rows` is not in [96, 128, 160, 192, 224]. Weights for input shape (224, 224) will be loaded as the default.\n",
      "Model: \"model_2\"\n",
      "_________________________________________________________________\n",
      " Layer (type)                Output Shape              Param #   \n",
      "=================================================================\n",
      " input_shape (InputLayer)    [(None, 224, 224, 3)]     0         \n",
      "                                                                 \n",
      " mobilenetv2_1.00_224 (Funct  (None, None, None, 1280)  2257984  \n",
      " ional)                                                          \n",
      "                                                                 \n",
      " global_average_pooling_laye  (None, 1280)             0         \n",
      " r (GlobalAveragePooling2D)                                      \n",
      "                                                                 \n",
      " outputs (Dense)             (None, 10)                12810     \n",
      "                                                                 \n",
      "=================================================================\n",
      "Total params: 2,270,794\n",
      "Trainable params: 12,810\n",
      "Non-trainable params: 2,257,984\n",
      "_________________________________________________________________\n"
     ]
    }
   ],
   "source": [
    "tf.random.set_seed(42)\n",
    "base_model = tf.keras.applications.MobileNetV2(include_top=False)\n",
    "base_model.trainable= False\n",
    "\n",
    "inputs = layers.Input(shape=(224,224,3),name = \"input_shape\",dtype=tf.float16)\n",
    "x = base_model(inputs,training=False)\n",
    "x = layers.GlobalAvgPool2D(name=\"global_average_pooling_layer\")(x)\n",
    "outputs = layers.Dense(len(class_names),activation='softmax',dtype=tf.float32,name='outputs')(x)\n",
    "\n",
    "model_2 = Model(inputs,outputs)\n",
    "\n",
    "model_2.compile(loss='categorical_crossentropy',optimizer=Adam(),metrics=['accuracy'])\n",
    "\n",
    "model_2.summary()"
   ]
  },
  {
   "cell_type": "code",
   "execution_count": 61,
   "id": "e4e8ce51",
   "metadata": {},
   "outputs": [],
   "source": [
    "callback_model2 = ModelCheckpoint(\"checkpoint_all/model2_15Data_trad_classWeight_v2.h5\")"
   ]
  },
  {
   "cell_type": "code",
   "execution_count": 62,
   "id": "f34655de",
   "metadata": {
    "scrolled": true
   },
   "outputs": [
    {
     "name": "stdout",
     "output_type": "stream",
     "text": [
      "Epoch 1/10\n",
      "179/179 [==============================] - 50s 270ms/step - loss: 0.9237 - accuracy: 0.7163 - val_loss: 0.6760 - val_accuracy: 0.7917\n",
      "Epoch 2/10\n",
      "179/179 [==============================] - 48s 267ms/step - loss: 0.4779 - accuracy: 0.8573 - val_loss: 0.5196 - val_accuracy: 0.8333\n",
      "Epoch 3/10\n",
      "179/179 [==============================] - 48s 267ms/step - loss: 0.3860 - accuracy: 0.8884 - val_loss: 0.3730 - val_accuracy: 0.9062\n",
      "Epoch 4/10\n",
      "179/179 [==============================] - 48s 267ms/step - loss: 0.3354 - accuracy: 0.8963 - val_loss: 0.3683 - val_accuracy: 0.8854\n",
      "Epoch 5/10\n",
      "179/179 [==============================] - 48s 270ms/step - loss: 0.3045 - accuracy: 0.9067 - val_loss: 0.4016 - val_accuracy: 0.8750\n",
      "Epoch 6/10\n",
      "179/179 [==============================] - 48s 267ms/step - loss: 0.2806 - accuracy: 0.9182 - val_loss: 0.4277 - val_accuracy: 0.8750\n",
      "Epoch 7/10\n",
      "179/179 [==============================] - 48s 268ms/step - loss: 0.2463 - accuracy: 0.9301 - val_loss: 0.4685 - val_accuracy: 0.8646\n",
      "Epoch 8/10\n",
      "179/179 [==============================] - 48s 270ms/step - loss: 0.2370 - accuracy: 0.9261 - val_loss: 0.3929 - val_accuracy: 0.8854\n",
      "Epoch 9/10\n",
      "179/179 [==============================] - 48s 270ms/step - loss: 0.2291 - accuracy: 0.9306 - val_loss: 0.3357 - val_accuracy: 0.9271\n",
      "Epoch 10/10\n",
      "179/179 [==============================] - 48s 270ms/step - loss: 0.2143 - accuracy: 0.9335 - val_loss: 0.3696 - val_accuracy: 0.8958\n"
     ]
    }
   ],
   "source": [
    "history_model2 = model_2.fit(train_data,\n",
    "                                 epochs=10,\n",
    "                                 steps_per_epoch=len(train_data),\n",
    "                                 validation_data=test_data,\n",
    "                                 validation_steps=int(0.15 * len(test_data)), \n",
    "                                 callbacks=[callback_model2],\n",
    "                            class_weight=weight)"
   ]
  },
  {
   "cell_type": "code",
   "execution_count": 63,
   "id": "2db820ff",
   "metadata": {},
   "outputs": [],
   "source": [
    "model = load_model(\"checkpoint_all/model2_15Data_trad_classWeight.h5\")"
   ]
  },
  {
   "cell_type": "code",
   "execution_count": 64,
   "id": "a6bd6f37",
   "metadata": {},
   "outputs": [
    {
     "name": "stdout",
     "output_type": "stream",
     "text": [
      "20/20 [==============================] - 2s 44ms/step - loss: 0.2689 - accuracy: 0.9204\n"
     ]
    },
    {
     "data": {
      "text/plain": [
       "[0.2688789367675781, 0.9203821420669556]"
      ]
     },
     "execution_count": 64,
     "metadata": {},
     "output_type": "execute_result"
    }
   ],
   "source": [
    "model.evaluate(test_data)"
   ]
  },
  {
   "cell_type": "code",
   "execution_count": 65,
   "id": "b093dccd",
   "metadata": {},
   "outputs": [],
   "source": [
    "base_model.trainable = True\n",
    "for layer in base_model.layers[:-5]:\n",
    "    layer.trainable = False"
   ]
  },
  {
   "cell_type": "code",
   "execution_count": 66,
   "id": "e43bceca",
   "metadata": {},
   "outputs": [],
   "source": [
    "callback_model2_tuning = ModelCheckpoint(\"checkpoint_all/model2_tuning_15Data_classweight_trad\",save_best_only=True)"
   ]
  },
  {
   "cell_type": "code",
   "execution_count": 67,
   "id": "70af3533",
   "metadata": {},
   "outputs": [],
   "source": [
    "model_2.compile(loss='categorical_crossentropy',\n",
    "              optimizer=tf.keras.optimizers.Adam(1e-4), # 10x lower learning rate than default\n",
    "              metrics=['accuracy'])"
   ]
  },
  {
   "cell_type": "code",
   "execution_count": 68,
   "id": "04616bad",
   "metadata": {
    "scrolled": true
   },
   "outputs": [
    {
     "name": "stdout",
     "output_type": "stream",
     "text": [
      "Epoch 10/20\n",
      "179/179 [==============================] - ETA: 0s - loss: 0.2835 - accuracy: 0.9070INFO:tensorflow:Assets written to: checkpoint_all\\model2_tuning_15Data_classweight_trad_v2\\assets\n",
      "179/179 [==============================] - 64s 344ms/step - loss: 0.2835 - accuracy: 0.9070 - val_loss: 0.6232 - val_accuracy: 0.8125 - lr: 1.0000e-04\n",
      "Epoch 11/20\n",
      "179/179 [==============================] - ETA: 0s - loss: 0.2172 - accuracy: 0.9275INFO:tensorflow:Assets written to: checkpoint_all\\model2_tuning_15Data_classweight_trad_v2\\assets\n",
      "179/179 [==============================] - 61s 337ms/step - loss: 0.2172 - accuracy: 0.9275 - val_loss: 0.2677 - val_accuracy: 0.9167 - lr: 1.0000e-04\n",
      "Epoch 12/20\n",
      "179/179 [==============================] - 48s 264ms/step - loss: 0.1737 - accuracy: 0.9454 - val_loss: 0.3641 - val_accuracy: 0.9375 - lr: 1.0000e-04\n",
      "Epoch 13/20\n",
      "179/179 [==============================] - ETA: 0s - loss: 0.1653 - accuracy: 0.9450\n",
      "Epoch 13: ReduceLROnPlateau reducing learning rate to 1.9999999494757503e-05.\n",
      "179/179 [==============================] - 48s 268ms/step - loss: 0.1653 - accuracy: 0.9450 - val_loss: 0.4418 - val_accuracy: 0.9062 - lr: 1.0000e-04\n",
      "Epoch 14/20\n",
      "179/179 [==============================] - ETA: 0s - loss: 0.0922 - accuracy: 0.9736INFO:tensorflow:Assets written to: checkpoint_all\\model2_tuning_15Data_classweight_trad_v2\\assets\n",
      "179/179 [==============================] - 61s 342ms/step - loss: 0.0922 - accuracy: 0.9736 - val_loss: 0.2539 - val_accuracy: 0.9271 - lr: 2.0000e-05\n",
      "Epoch 15/20\n",
      "179/179 [==============================] - 49s 274ms/step - loss: 0.0824 - accuracy: 0.9744 - val_loss: 0.3676 - val_accuracy: 0.8958 - lr: 2.0000e-05\n",
      "Epoch 16/20\n",
      "179/179 [==============================] - ETA: 0s - loss: 0.0735 - accuracy: 0.9793\n",
      "Epoch 16: ReduceLROnPlateau reducing learning rate to 3.999999898951501e-06.\n",
      "179/179 [==============================] - 49s 272ms/step - loss: 0.0735 - accuracy: 0.9793 - val_loss: 0.3081 - val_accuracy: 0.9167 - lr: 2.0000e-05\n",
      "Epoch 17/20\n",
      "179/179 [==============================] - 48s 271ms/step - loss: 0.0674 - accuracy: 0.9786 - val_loss: 0.3040 - val_accuracy: 0.9375 - lr: 4.0000e-06\n",
      "Epoch 18/20\n",
      "179/179 [==============================] - ETA: 0s - loss: 0.0660 - accuracy: 0.9792\n",
      "Epoch 18: ReduceLROnPlateau reducing learning rate to 7.999999979801942e-07.\n",
      "179/179 [==============================] - 49s 271ms/step - loss: 0.0660 - accuracy: 0.9792 - val_loss: 0.3182 - val_accuracy: 0.9375 - lr: 4.0000e-06\n",
      "Epoch 19/20\n",
      "179/179 [==============================] - 49s 273ms/step - loss: 0.0630 - accuracy: 0.9821 - val_loss: 0.3076 - val_accuracy: 0.9167 - lr: 8.0000e-07\n",
      "Epoch 20/20\n",
      "179/179 [==============================] - ETA: 0s - loss: 0.0628 - accuracy: 0.9820\n",
      "Epoch 20: ReduceLROnPlateau reducing learning rate to 1.600000018697756e-07.\n",
      "179/179 [==============================] - 49s 276ms/step - loss: 0.0628 - accuracy: 0.9820 - val_loss: 0.3193 - val_accuracy: 0.9167 - lr: 8.0000e-07\n"
     ]
    }
   ],
   "source": [
    "fine_tune_epochs = 20\n",
    "\n",
    "history_model2_tuning = model_2.fit(train_data,\n",
    "                                     epochs=fine_tune_epochs,\n",
    "                                     validation_data=test_data,\n",
    "                                     validation_steps=int(0.15 * len(test_data)), # validate on 15% of the test data\n",
    "                                     initial_epoch=history_model2.epoch[-1],\n",
    "                                        callbacks=[callback_model2_tuning,reduce_lr],\n",
    "                                   class_weight=weight) # "
   ]
  },
  {
   "cell_type": "markdown",
   "id": "99fee407",
   "metadata": {},
   "source": [
    "## Evaluating Model"
   ]
  },
  {
   "cell_type": "code",
   "execution_count": 5,
   "id": "6ba63fa3",
   "metadata": {},
   "outputs": [],
   "source": [
    "load_model_2_tuning = load_model(\"checkpoint_all/model2_tuning_15Data_classweight_trad\")"
   ]
  },
  {
   "cell_type": "code",
   "execution_count": 10,
   "id": "20999eaa",
   "metadata": {},
   "outputs": [
    {
     "name": "stdout",
     "output_type": "stream",
     "text": [
      "20/20 [==============================] - 2s 52ms/step - loss: 0.1996 - accuracy: 0.9443\n"
     ]
    },
    {
     "data": {
      "text/plain": [
       "[0.19961543381214142, 0.9442675113677979]"
      ]
     },
     "execution_count": 10,
     "metadata": {},
     "output_type": "execute_result"
    }
   ],
   "source": [
    "load_model_2_tuning.evaluate(test_data)"
   ]
  },
  {
   "cell_type": "code",
   "execution_count": 12,
   "id": "36af960e",
   "metadata": {},
   "outputs": [],
   "source": [
    "from sklearn.metrics import classification_report"
   ]
  },
  {
   "cell_type": "code",
   "execution_count": 10,
   "id": "a38533bd",
   "metadata": {},
   "outputs": [
    {
     "data": {
      "text/plain": [
       "array([0, 0, 0, 0, 0, 0, 0, 5, 0, 0], dtype=int64)"
      ]
     },
     "execution_count": 10,
     "metadata": {},
     "output_type": "execute_result"
    }
   ],
   "source": [
    "y_pred = load_model_2_tuning.predict(test_data).argmax(axis=1)\n",
    "y_pred[:10]"
   ]
  },
  {
   "cell_type": "code",
   "execution_count": 13,
   "id": "8589fb77",
   "metadata": {},
   "outputs": [
    {
     "name": "stdout",
     "output_type": "stream",
     "text": [
      "              precision    recall  f1-score   support\n",
      "\n",
      "           0       0.94      0.88      0.91        56\n",
      "           1       0.92      0.98      0.95        60\n",
      "           2       0.93      1.00      0.96        76\n",
      "           3       0.92      0.96      0.94        72\n",
      "           4       0.92      0.92      0.92        73\n",
      "           5       0.91      0.88      0.89        48\n",
      "           6       0.96      0.94      0.95        47\n",
      "           7       0.97      0.97      0.97        70\n",
      "           8       0.98      0.95      0.97        65\n",
      "           9       1.00      0.93      0.97        61\n",
      "\n",
      "    accuracy                           0.94       628\n",
      "   macro avg       0.95      0.94      0.94       628\n",
      "weighted avg       0.95      0.94      0.94       628\n",
      "\n"
     ]
    }
   ],
   "source": [
    "print(classification_report(test_data.classes,y_pred))"
   ]
  },
  {
   "cell_type": "code",
   "execution_count": 37,
   "id": "a2e2e3bd",
   "metadata": {},
   "outputs": [],
   "source": [
    "path_pred = r\"E:\\jupyter\\Bangkit\\capstone project\\img_dir_all\\train\\26_Nymphaea\\img_9.jpg\""
   ]
  },
  {
   "cell_type": "code",
   "execution_count": 38,
   "id": "dc088ec1",
   "metadata": {},
   "outputs": [],
   "source": [
    "from tensorflow.keras.preprocessing.image import load_img, img_to_array"
   ]
  },
  {
   "cell_type": "code",
   "execution_count": 39,
   "id": "2c23bc7a",
   "metadata": {},
   "outputs": [],
   "source": [
    "import matplotlib.pyplot as plt\n",
    "import tensorflow as tf"
   ]
  },
  {
   "cell_type": "code",
   "execution_count": 51,
   "id": "d7fb3c00",
   "metadata": {},
   "outputs": [],
   "source": [
    "def img_prep_predict(path):\n",
    "    img = load_img(path, target_size=(224, 224))\n",
    "    img = img_to_array(img)\n",
    "    img=tf.expand_dims(img,axis=0)\n",
    "    img = img/255.\n",
    "    return img"
   ]
  },
  {
   "cell_type": "code",
   "execution_count": 83,
   "id": "3c4161b7",
   "metadata": {},
   "outputs": [],
   "source": [
    "img = img_prep_predict(path_pred)"
   ]
  },
  {
   "cell_type": "code",
   "execution_count": 93,
   "id": "bfa532d7",
   "metadata": {
    "scrolled": true
   },
   "outputs": [
    {
     "data": {
      "text/plain": [
       "array([2], dtype=int64)"
      ]
     },
     "execution_count": 93,
     "metadata": {},
     "output_type": "execute_result"
    }
   ],
   "source": [
    "load_model_2_tuning.predict(img).argmax(axis=1)"
   ]
  },
  {
   "cell_type": "code",
   "execution_count": 92,
   "id": "9935df8a",
   "metadata": {},
   "outputs": [
    {
     "data": {
      "text/plain": [
       "'26_Nymphaea'"
      ]
     },
     "execution_count": 92,
     "metadata": {},
     "output_type": "execute_result"
    }
   ],
   "source": [
    "class_names[2]"
   ]
  }
 ],
 "metadata": {
  "kernelspec": {
   "display_name": "Python 3 (ipykernel)",
   "language": "python",
   "name": "python3"
  },
  "language_info": {
   "codemirror_mode": {
    "name": "ipython",
    "version": 3
   },
   "file_extension": ".py",
   "mimetype": "text/x-python",
   "name": "python",
   "nbconvert_exporter": "python",
   "pygments_lexer": "ipython3",
   "version": "3.9.7"
  }
 },
 "nbformat": 4,
 "nbformat_minor": 5
}
